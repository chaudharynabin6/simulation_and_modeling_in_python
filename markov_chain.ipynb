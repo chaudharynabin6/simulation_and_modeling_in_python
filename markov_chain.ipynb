{
 "cells": [
  {
   "cell_type": "markdown",
   "metadata": {},
   "source": [
    "# markov chain"
   ]
  },
  {
   "cell_type": "code",
   "execution_count": 2,
   "metadata": {},
   "outputs": [],
   "source": [
    "import torch "
   ]
  },
  {
   "cell_type": "code",
   "execution_count": 6,
   "metadata": {},
   "outputs": [],
   "source": []
  },
  {
   "cell_type": "code",
   "execution_count": 9,
   "metadata": {},
   "outputs": [
    {
     "name": "stdout",
     "output_type": "stream",
     "text": [
      "________________________iteration 0_____________________________\n",
      "tensor([0., 1., 0.])\n",
      "________________________iteration 1_____________________________\n",
      "tensor([0.7500, 0.8000, 0.2500])\n",
      "\n",
      "\n",
      "________________________iteration 2_____________________________\n",
      "tensor([1.2812, 0.7650, 0.5125])\n",
      "\n",
      "\n",
      "________________________iteration 3_____________________________\n",
      "tensor([1.7397, 0.8298, 0.7678])\n",
      "\n",
      "\n",
      "________________________iteration 4_____________________________\n",
      "tensor([2.2073, 0.9632, 1.0263])\n",
      "\n",
      "\n",
      "________________________iteration 5_____________________________\n",
      "tensor([2.7346, 1.1530, 1.3058])\n",
      "\n",
      "\n"
     ]
    }
   ],
   "source": [
    "s0 = current_state = [0,1,0]\n",
    "s0 = torch.tensor(s0,dtype=torch.float)\n",
    "\n",
    "probability_transition_matrix = torch.tensor([\n",
    "    # V bull V bear V stagnent\n",
    "    [.9 , .75 , .025], # bull\n",
    "    [.15 , .8 , .05],  # bear\n",
    "    [.25, .25  , .5]   # stagnent\n",
    "\n",
    "],dtype=torch.float)\n",
    "number_of_iterations = 5\n",
    "print(f\"________________________iteration {0}_____________________________\")\n",
    "print(s0)\n",
    "for i in range(5):\n",
    "  \n",
    "    s0 = torch.matmul(probability_transition_matrix,s0)\n",
    "    print(f\"________________________iteration {i+1}_____________________________\")\n",
    "    print(s0)\n",
    "    print(f\"\\n\")"
   ]
  }
 ],
 "metadata": {
  "interpreter": {
   "hash": "11f1dc213e07634baa4c5c321dec03c05dafae643c50f20e6d1a492290c05dc2"
  },
  "kernelspec": {
   "display_name": "Python 3.9.9 64-bit",
   "language": "python",
   "name": "python3"
  },
  "language_info": {
   "codemirror_mode": {
    "name": "ipython",
    "version": 3
   },
   "file_extension": ".py",
   "mimetype": "text/x-python",
   "name": "python",
   "nbconvert_exporter": "python",
   "pygments_lexer": "ipython3",
   "version": "3.9.9"
  },
  "orig_nbformat": 4
 },
 "nbformat": 4,
 "nbformat_minor": 2
}
